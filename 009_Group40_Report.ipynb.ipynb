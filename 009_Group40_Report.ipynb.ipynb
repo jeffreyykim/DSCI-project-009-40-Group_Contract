{
 "cells": [
  {
   "cell_type": "markdown",
   "id": "73a71965-8c3f-4fef-9919-2be632bc54e7",
   "metadata": {},
   "source": [
    "# ***Detecting presence of Heart Disease using classification***\n",
    "#### Group Members: Ishan Kumar Singh, Tony Kashimori, Jeffrey Kim"
   ]
  },
  {
   "cell_type": "markdown",
   "id": "05cfb315-f8e6-4324-97a2-f1befd9c8f9a",
   "metadata": {},
   "source": [
    "## Introduction"
   ]
  },
  {
   "cell_type": "markdown",
   "id": "92b95b91-632a-48b1-ad0d-b6132f82d384",
   "metadata": {},
   "source": [
    "Heart diseases, a global health concern, predominantly affect the elderly. With countless victims each year, early detection remains crucial. \n",
    "\n",
    "Our project investigates the likelihood of heart disease using key indicators: age, sex, resting blood pressure, cholesterol, and maximum heart rate.\n",
    "\n",
    "The primary question is: **\"Can age, sex, resting blood pressure, cholesterol, and maximum heart rate predict heart disease?\"** \n",
    "\n",
    "The data set combines five heart datasets, offering the most extensive collection on heart disease prediction with **918 unique observations** with **12 columns**, focusing on key indicators to assess heart disease risk. Shedding light on these factors' roles, enhances our understanding of future preventive medical approaches."
   ]
  },
  {
   "cell_type": "markdown",
   "id": "c24d81bf-7771-40db-9071-e5f08738842e",
   "metadata": {},
   "source": [
    "<img src=\"https://img.freepik.com/premium-vector/prevention-treatment-heart-disease-cartoon-body-organ-mascot-cute-character-with-medical-dropper-cardiovascular-health-protection-recovery-vector-preventive-medicine-concept_176411-4148.jpg?w=2000\" alt=\"Alternative text\" width=\"300\" height=\"300\" />\n",
    "\n",
    "https://img.freepik.com/premium-vector/prevention-treatment-heart-disease-cartoon-body-organ-mascot-cute-character-with-medical-dropper-cardiovascular-health-protection-recovery-vector-preventive-medicine-concept_176411-4148.jpg?w=740"
   ]
  },
  {
   "cell_type": "markdown",
   "id": "d41f7c3f-4a8d-46bf-bc45-3988e1c49eca",
   "metadata": {},
   "source": [
    "## Methods"
   ]
  },
  {
   "cell_type": "markdown",
   "id": "a13faf84-262f-4458-8125-cbc74a877915",
   "metadata": {},
   "source": [
    "Importing all the libraries that will be used in our data analysis and modeling."
   ]
  },
  {
   "cell_type": "code",
   "execution_count": 25,
   "id": "32404aa9-1b38-4f88-8cb7-f5b7b6b36193",
   "metadata": {
    "tags": []
   },
   "outputs": [],
   "source": [
    "### Run this cell before continuing. \n",
    "library(tidyverse)\n",
    "library(repr)\n",
    "library(tidymodels)\n",
    "options(repr.matrix.max.rows = 6)\n",
    "library(dplyr)"
   ]
  },
  {
   "cell_type": "markdown",
   "id": "7e326a70-e33c-4331-866b-160eb5d060f2",
   "metadata": {},
   "source": [
    "Install the `kknn` package into our server. This will be used in building the model based on knn classification."
   ]
  },
  {
   "cell_type": "code",
   "execution_count": null,
   "id": "6187717c-bc1d-4aea-936e-3536c1bad303",
   "metadata": {},
   "outputs": [],
   "source": [
    "install.packages(\"kknn\")"
   ]
  },
  {
   "cell_type": "markdown",
   "id": "7bfc717b-ad1a-471a-8e47-4be151264a3d",
   "metadata": {},
   "source": [
    "Read in the `heart.csv` data using `read_csv()` and assign it to an object called `data`. The data is accessed using the url `https://raw.githubusercontent.com/jeffreyykim/DSCI-project-009-40-Group_Contract/94fda1d002bf5ab24d2be98a7c63061a1dad7ab0/heart.csv`."
   ]
  },
  {
   "cell_type": "code",
   "execution_count": null,
   "id": "f7ee1b93-e7c0-434e-b030-29835809c06a",
   "metadata": {
    "tags": []
   },
   "outputs": [],
   "source": [
    "data <- read_csv(\"https://raw.githubusercontent.com/jeffreyykim/DSCI-project-009-40-Group_Contract/94fda1d002bf5ab24d2be98a7c63061a1dad7ab0/heart.csv\")"
   ]
  },
  {
   "cell_type": "markdown",
   "id": "58b8c79d-f38f-453d-adc4-74f24d03be51",
   "metadata": {},
   "source": [
    "We wish to determine the number of `NA` values in our data set. To do this we use the `is.na()`function."
   ]
  },
  {
   "cell_type": "code",
   "execution_count": null,
   "id": "08bcb222-0382-4a60-86bf-206267a8f460",
   "metadata": {
    "tags": []
   },
   "outputs": [],
   "source": [
    "na_number <- sum(is.na(data))\n",
    "na_number"
   ]
  },
  {
   "cell_type": "markdown",
   "id": "1227d010-1fa1-492b-a045-5822f9da237f",
   "metadata": {},
   "source": [
    "Since the data set doesn't contain any `NA` values we don't have to drop any observation."
   ]
  },
  {
   "cell_type": "markdown",
   "id": "db81026f-450d-4446-987e-dc444a3774d9",
   "metadata": {},
   "source": [
    "We now begin by wrangling our data. Firstly, we convert our classifier column as a factor and change the responses to `Positive` *(1 in data set)* and `Negative` *(0 in data set)* in accordance with the key as mentioned at the source. We do this to make our predictions more informative and easier to comprehend."
   ]
  },
  {
   "cell_type": "code",
   "execution_count": null,
   "id": "e237ef63-d9c2-4e48-8ed6-9c4a801cd4a4",
   "metadata": {
    "tags": []
   },
   "outputs": [],
   "source": [
    "# cleaning and wrangling the data, renaming the values in a column\n",
    "set.seed(1)\n",
    "data <- data |>\n",
    "        mutate(HeartDisease = as_factor(HeartDisease)) |>\n",
    "        mutate(HeartDisease = fct_recode(HeartDisease, \"Positive\" = \"1\", \"Negative\" = \"0\"))"
   ]
  },
  {
   "cell_type": "markdown",
   "id": "c73ff254-5147-40f6-a62a-b56e1e2a8e9c",
   "metadata": {},
   "source": [
    "We now move on to selecting only the valid columns based on our intuition and the data analysis performed below which showed that  these predictors tend to be influenced by the patients with heart disease. Below each figure we have a description as to how this predictor is influenced by heart diseases.$\\newline (figures \\space 1,\\space 2,\\space 3,\\space 4,\\space and \\space 5\\space alon g\\space with\\space Table\\space 1)$\n",
    "\n",
    "We also remove the values from the selected columns that don't make sense in our analysis. For example, it is impossible for a living person to have their maximum heart rate, resting blood pressure and cholesterol levels to be 0.\n",
    "\n",
    "Another change included that the categorical variable Sex is converted into quantitative variable by depicting the values as 1, and 0. This allows us to us this a predictor in our analysis by a `knn` model. We change the column name into `Male` which had value 1 for *Male* and 0 for *Female*. Since Sex of the patient may also play a huge role in determining whether they do or do not have a heart disease as implied by the ***figure 1*** below, therefore we wanted to include it into our analysis. "
   ]
  },
  {
   "cell_type": "code",
   "execution_count": null,
   "id": "a4fd372a-910a-4859-8872-81a6ada133a4",
   "metadata": {
    "tags": []
   },
   "outputs": [],
   "source": [
    "# selecting only the relevant columns\n",
    "selected_data <- select(data, HeartDisease, Cholesterol,  Age, RestingBP, MaxHR, Sex) |>\n",
    "                 filter(Cholesterol != 0, MaxHR !=0, RestingBP != 0) |>\n",
    "                mutate(Male=as.integer(Sex == \"M\")) |>\n",
    "                select(-Sex)\n",
    "                 # mutate(Sex = as.factor(Sex)) |> mutate(Sex = fct_recode(Sex, \"1\" = \"M\", \"0\" = \"F\"))\n",
    "head(selected_data, n = 3)"
   ]
  },
  {
   "cell_type": "markdown",
   "id": "6d792305-10ee-4783-8cde-4f9f4d950e32",
   "metadata": {},
   "source": [
    "In our data set `data` \n",
    "1) every column is a variable\n",
    "2) every row is an observation and, \n",
    "3) every cell is its own value \n",
    "**Therefore, `data` is tidy.**"
   ]
  },
  {
   "cell_type": "markdown",
   "id": "9409bb57-02d7-495d-87e3-896757bf9fa6",
   "metadata": {
    "tags": []
   },
   "source": [
    "**Variables used:**\n",
    "- `HeartDisease` (Positive / Negative) : Patient with or without Heart Disease.\n",
    "- `Cholesterol` (mm/dl): Cholesterol levels measured in the given unit.\n",
    "- `Age` (years) : Age of Patient.\n",
    "- `RestingBP` (mm Hg) : Resting Blood Pressure measured in the given unit.\n",
    "- `MaxHR` (BPM) : Maximum Heart Rate measured in the given unit.\n",
    "- `Male` (1: Male / 0: Female) : Sex of Patient\n",
    "\n",
    "\n",
    "**Procedure**\n",
    "1) Importing the libraries and data from `Kaggle` into R.\n",
    "2) Cleaning, wrangling and renaming of data into R. Selecting only columns based on preliminary analysis of data.\n",
    "3) Splitting into `training` and `testing` data. Scaling the data while making recipes.\n",
    "4) Find best value of k to be used by `cross validation` of training data.\n",
    "5) Using this k value to build our model and testing it onto the testing set.\n",
    "6) Measuring the accuracy and analyzing the confusion matrix."
   ]
  },
  {
   "cell_type": "markdown",
   "id": "1a2f2bd5-51a0-480e-9e9e-2b75ee4fcb05",
   "metadata": {},
   "source": [
    "We split the `selected_data` into training and testing data set according to the proportions `0.75` and `0.25` using `initial_split`. We make sure that the proportion of positive and negative tested patients remain the same in both the data frames using `strata`. "
   ]
  },
  {
   "cell_type": "code",
   "execution_count": null,
   "id": "6fe35ab5-1777-4678-9ec1-acc4eb13dc77",
   "metadata": {
    "tags": []
   },
   "outputs": [],
   "source": [
    "# spliting data into testing and training sets\n",
    "data_split <- initial_split(selected_data, prop = 0.75, strata = HeartDisease)\n",
    "training_data <- training(data_split)\n",
    "testing_data <- testing(data_split)\n",
    "head(training_data, n = 3)\n",
    "head(testing_data, n = 3)"
   ]
  },
  {
   "cell_type": "markdown",
   "id": "b232caee-d7b0-43ac-955d-6b82054b5889",
   "metadata": {},
   "source": [
    "### Preliminary exploratory data analysis"
   ]
  },
  {
   "cell_type": "markdown",
   "id": "4ef764ac-c448-4457-912b-c405bee8b744",
   "metadata": {},
   "source": [
    "#### Building a bar plot to highlight the proportion of Sex of patients with `HeartDisease`."
   ]
  },
  {
   "cell_type": "code",
   "execution_count": null,
   "id": "01bd930a-2615-4f3a-a5fe-38adafd9ab34",
   "metadata": {
    "tags": []
   },
   "outputs": [],
   "source": [
    "options(repr.plot.width = 3, repr.plot.height = 4)\n",
    "sex_prop <- ggplot(training_data, aes(x = Male, fill = HeartDisease)) + geom_bar(position = \"fill\") +\n",
    "         labs(x = \"Sex of patient \\n(0:Female, 1:Male)\", y = \"Proportion\", colour = \"Heart Disease\") + ggtitle(\"Sex Proportions of Patients\") +\n",
    "         theme(text = element_text(size=12))\n",
    "sex_prop"
   ]
  },
  {
   "cell_type": "markdown",
   "id": "098897c8-dba7-49a9-93ec-78bfc71bd870",
   "metadata": {},
   "source": [
    "***figure 1***\n",
    "\n",
    "From the figure we observe that the proportion of females that have heart disease is only 0.25 as compared to more than 0.5 in males. Thus, more males tend to be positive for heart diseases."
   ]
  },
  {
   "cell_type": "markdown",
   "id": "2de93b5f-8bb9-4f5d-99de-3a4baf6a2dd9",
   "metadata": {
    "tags": []
   },
   "source": [
    "#### Building a histogram to highlight the distribution of `Cholesterol` levels with `HeartDisease`."
   ]
  },
  {
   "cell_type": "code",
   "execution_count": null,
   "id": "09df4f78-4af1-4b59-9b6e-d61cf3571bed",
   "metadata": {
    "tags": []
   },
   "outputs": [],
   "source": [
    "options(repr.plot.width = 6, repr.plot.height = 6)\n",
    "cholesterol_dist <- ggplot(training_data, aes(x = Cholesterol, fill = HeartDisease)) + geom_histogram(position = \"dodge\") + \n",
    "         labs(x = \"Cholesterol Levels \\n (mm/dl)\", y = \"Number Of Patients\", colour = \"Heart Disease\") + ggtitle(\"Distribution of Cholesterol Levels\") +\n",
    "         theme(text = element_text(size=12)) \n",
    "cholesterol_dist"
   ]
  },
  {
   "cell_type": "markdown",
   "id": "fd3545e5-448e-46cf-8385-474464a086b2",
   "metadata": {},
   "source": [
    "***figure 2***\n",
    "\n",
    "This distribution does not provide a very clear insight or trend regarding cholesterol levels and heart disease. We can see just a weak trend that people who do not have a heart disease tend to have lower cholesterol levels.\n",
    "\n",
    "However historically and according to literature *(Cholesterol levels - statpearls - NCBI bookshelf)*, people with higher cholesterol levels tend to have heart diseases and to investigate the certainty of that statement we included this graph in our analysis."
   ]
  },
  {
   "cell_type": "markdown",
   "id": "62d836f6-b0f5-4829-af95-baa6012d56ba",
   "metadata": {
    "tags": []
   },
   "source": [
    "#### Plotting the distribution of `RestingBP` in patients with `HeartDisease`"
   ]
  },
  {
   "cell_type": "code",
   "execution_count": null,
   "id": "321e9d01-68f5-4a8e-9ef7-97bc815949df",
   "metadata": {
    "tags": []
   },
   "outputs": [],
   "source": [
    "restbp_dist <- ggplot(training_data, aes(x = RestingBP, fill = HeartDisease)) + geom_histogram(position = \"dodge\") + \n",
    "         labs(x = \"Resting Blood Pressure \\n (mm Hg)\", y = \"Number Of Patients\", colour = \"Heart Disease\") + ggtitle(\"Distribution of Resting BP\") +\n",
    "         theme(text = element_text(size=12)) \n",
    "restbp_dist"
   ]
  },
  {
   "cell_type": "markdown",
   "id": "20ad9b33-7cc3-4a82-b173-8b827cfd6cc3",
   "metadata": {},
   "source": [
    "***figure 3***"
   ]
  },
  {
   "cell_type": "markdown",
   "id": "ccb290ba-cd41-4649-9fbd-2ebcf5afefee",
   "metadata": {},
   "source": [
    "The plot above shows that there are more number of people without heat diseases at lower resting blood pressures then number of people with heart diseases and the number for the latter increases as we increase resting blood pressure. Thus, elevated resting blood pressure could be an indication for heart disease."
   ]
  },
  {
   "cell_type": "markdown",
   "id": "af4e2ea8-d706-4242-a228-e5617a52af7b",
   "metadata": {},
   "source": [
    "#### Building the distribution of `HeartDisease` Patients and their `Age`"
   ]
  },
  {
   "cell_type": "code",
   "execution_count": null,
   "id": "4d322cff-677d-4640-af45-1af7aab13733",
   "metadata": {
    "tags": []
   },
   "outputs": [],
   "source": [
    "age_dist <- ggplot(training_data, aes(x = Age, fill = HeartDisease)) + geom_histogram(position = \"dodge\") + \n",
    "         labs(x = \"Age \\n (years)\", y = \"Number Of Patients\", colour = \"Heart Disease\") + ggtitle(\"Distribution of Age\") +\n",
    "         theme(text = element_text(size=12)) \n",
    "age_dist"
   ]
  },
  {
   "cell_type": "markdown",
   "id": "9270ee9d-2623-4f98-af46-6a860aaf1ec0",
   "metadata": {},
   "source": [
    "***figure 4***"
   ]
  },
  {
   "cell_type": "markdown",
   "id": "188f88d1-28cc-4dd5-8318-a64ab79fe4bf",
   "metadata": {},
   "source": [
    "From the plot, we can conclude that heart diseases tend to target older people. The number of people above the age of 55 years is consistently higher than the number of people without heart diseases."
   ]
  },
  {
   "cell_type": "markdown",
   "id": "db925f8b-8e6b-4b88-a911-f610d2b938ca",
   "metadata": {},
   "source": [
    "#### Showing the distribution of `MaxHR` of `HeartDisease` patients"
   ]
  },
  {
   "cell_type": "code",
   "execution_count": null,
   "id": "e5d4e33a-ebeb-4d7e-ba27-9e7de17a9024",
   "metadata": {
    "tags": []
   },
   "outputs": [],
   "source": [
    "maxhr_dist <- ggplot(training_data, aes(x = MaxHR, fill = HeartDisease)) + geom_histogram(position = \"dodge\") + \n",
    "         labs(x = \"Maximum Heart Rate \\n (BPM)\", y = \"Number Of Patients\", colour = \"Heart Disease\") + ggtitle(\"Distribution of Max Heart Rate\") +\n",
    "         theme(text = element_text(size=12)) \n",
    "maxhr_dist"
   ]
  },
  {
   "cell_type": "markdown",
   "id": "816afb6f-9947-4fe4-9d58-e9f1b2de1253",
   "metadata": {},
   "source": [
    "***figure 5***"
   ]
  },
  {
   "cell_type": "markdown",
   "id": "f3df4b7c-2005-4e99-89b5-f559f766b2ef",
   "metadata": {},
   "source": [
    "There is a clear yet surprising trend that we observe. The maximum heart rate for patients with heart disease is significantly lower than that for patients without heart diseases."
   ]
  },
  {
   "cell_type": "code",
   "execution_count": null,
   "id": "2ea88f4f-0f99-4e6d-8539-da813134d616",
   "metadata": {
    "tags": []
   },
   "outputs": [],
   "source": [
    "# characteristics of the training data\n",
    "training_data |>\n",
    "group_by(HeartDisease, Male) |>\n",
    "summarize(Mean_Cholesterol = mean(Cholesterol, na.rm = TRUE), Mean_Age = mean(Age, na.rm = TRUE), Mean_RestingBP = mean(RestingBP, na.rn = TRUE),\n",
    "          Mean_MaxHR = mean(MaxHR, na.rm = TRUE))"
   ]
  },
  {
   "cell_type": "markdown",
   "id": "7e4ffb50-f807-4db4-b5b2-20b9bf26601d",
   "metadata": {},
   "source": [
    "***Table 1***\n",
    "\n",
    "Through the table we can see that for both genders 0 (female) and 1 (male) patients with heart disease generally have higher cholesterol levels, age, and resting blood pressure with low max heart rate as compared to patients without heart diseases."
   ]
  },
  {
   "cell_type": "markdown",
   "id": "df4e0870-ce98-4ec2-8836-a73e6da53678",
   "metadata": {},
   "source": [
    "### Building The Model"
   ]
  },
  {
   "cell_type": "markdown",
   "id": "9a442975-9208-419c-90f0-24312219b703",
   "metadata": {},
   "source": [
    "We start by building the recipe for our model using `recipe()`. Centering and scaling of all the predictors is done through the functions `step_center` and `step_scale` functions.\n",
    "\n",
    "While building the model for our data we use `nearest_neighbor()`, specify the engine as `kknn` and the mode to `classification`."
   ]
  },
  {
   "cell_type": "code",
   "execution_count": null,
   "id": "1b42df12-626d-4994-be33-7d9500c68c9d",
   "metadata": {
    "tags": []
   },
   "outputs": [],
   "source": [
    "set.seed(1)\n",
    "knn_recipe <- recipe(HeartDisease ~ . , data = training_data) |>\n",
    "                step_center(all_predictors()) |>\n",
    "                step_scale(all_predictors()) \n",
    "knn_recipe\n",
    "\n",
    "knn_spec <- nearest_neighbor(weight_func = \"rectangular\", neighbors = tune()) |>\n",
    "            set_engine(\"kknn\") |>\n",
    "            set_mode(\"classification\")\n",
    "knn_spec"
   ]
  },
  {
   "cell_type": "markdown",
   "id": "24a39c74-cea8-433e-95fc-bf9e30ada4c8",
   "metadata": {},
   "source": [
    "We'll be performing cross-validation using a 5 fold validation set. We do this using `vfold_cv()` function and defining the `strata` as HeartDisease so that all the validation sets are stratified\n",
    "\n",
    "Next up we fit the model to the training set and recipe using `workflow()` with the 5 validation sets."
   ]
  },
  {
   "cell_type": "code",
   "execution_count": null,
   "id": "01218795-4a94-4e68-8f47-0391ed637c2a",
   "metadata": {
    "tags": []
   },
   "outputs": [],
   "source": [
    "set.seed(1)\n",
    "\n",
    "grid_vals <- tibble(neighbors = 1:50)\n",
    "\n",
    "knn_vfold <- vfold_cv(training_data, v = 5, strata = HeartDisease)\n",
    "\n",
    "\n",
    "knn_fit <- workflow() |>\n",
    "            add_recipe(knn_recipe) |>\n",
    "            add_model(knn_spec) |>\n",
    "            tune_grid(resamples = knn_vfold, grid = grid_vals)"
   ]
  },
  {
   "cell_type": "markdown",
   "id": "53e17d95-00fa-4fca-b556-69bcb906d796",
   "metadata": {},
   "source": [
    "After fitting the model we wish to determine the value of K with the most accuracy. We use the `collect_metrics()` function to get the accuracy and then we'll be plotting the values of accuracy vs k to find the k with highest accuracy."
   ]
  },
  {
   "cell_type": "code",
   "execution_count": null,
   "id": "65b4ce1f-5779-49e5-8f3a-98fecf9ff208",
   "metadata": {},
   "outputs": [],
   "source": [
    "knn_res <- knn_fit |> \n",
    "            collect_metrics() |>\n",
    "            filter(.metric == \"accuracy\")\n",
    "knn_res"
   ]
  },
  {
   "cell_type": "markdown",
   "id": "b3449049-7636-4af2-835c-0363d3ad792c",
   "metadata": {},
   "source": [
    "We plot the collected accuracy and `pull()` the value of nearest neighbor with highest accuracy. We will use this value of k to determine build the final model and use that model on our test data."
   ]
  },
  {
   "cell_type": "code",
   "execution_count": null,
   "id": "1774e7bc-358b-42c6-b807-f6229a1b3a4e",
   "metadata": {
    "tags": []
   },
   "outputs": [],
   "source": [
    "options(repr.plot.width = 10, repr.plot.height = 5)\n",
    "accuracy_versus_k <- ggplot(knn_res, aes(x = neighbors, y = mean))+\n",
    "      geom_point() +\n",
    "      geom_line() +\n",
    "      labs(x = \"Neighbors\", y = \"Accuracy Estimate\") + \n",
    "      theme(text = element_text(size = 12)) +\n",
    "      scale_x_continuous(breaks = seq(1, 200, by = 1)) +  # adjusting the x-axis\n",
    "      scale_y_continuous(limits = c(0.64, 0.74)) + # adjusting the y-axis \n",
    "      ggtitle(\"Accuracy vs K Plot\")\n",
    "accuracy_versus_k\n",
    "max_k <- knn_res |> filter(mean==(max(mean))) |> slice_min(neighbors) |> pull(neighbors)\n",
    "max_k"
   ]
  },
  {
   "cell_type": "markdown",
   "id": "8404cdc9-c7b7-490a-9712-586819bf1f58",
   "metadata": {},
   "source": [
    "***figure 6***"
   ]
  },
  {
   "cell_type": "markdown",
   "id": "405ef1aa-aedb-4cb7-bd8d-fba65d1ac4a7",
   "metadata": {},
   "source": [
    "The first point where we get the maximum accuracy is at k = 27."
   ]
  },
  {
   "cell_type": "markdown",
   "id": "a3ced6e7-5cb9-4b41-af4e-9da04da79406",
   "metadata": {},
   "source": [
    "We build our model in the same way we did earlier except this time around we make use of `max_k` taken from the plot above. \n",
    "\n",
    "We fit the newer/improved model in a `workflow()` and then predict the values for `testing_data` using `predict()` function.\n",
    "We use `bind_cols()` to bind the predicted values to `testing_data` and name it `test_predictions`."
   ]
  },
  {
   "cell_type": "code",
   "execution_count": null,
   "id": "cb3acf67-75fd-488e-957e-fde570661f9b",
   "metadata": {},
   "outputs": [],
   "source": [
    "max_k_spec <- nearest_neighbor(weight_func = \"rectangular\", neighbors = max_k) |>\n",
    "            set_engine(\"kknn\") |>\n",
    "            set_mode(\"classification\")\n",
    "max_k_spec\n",
    "max_k_fit <- workflow() |>\n",
    "            add_recipe(knn_recipe) |>\n",
    "            add_model(max_k_spec) |>\n",
    "            fit(data = training_data)\n",
    "\n",
    "test_predictions <- predict(max_k_fit , testing_data) |>\n",
    "      bind_cols(testing_data)\n",
    "head(test_predictions, n = 3)"
   ]
  },
  {
   "cell_type": "markdown",
   "id": "4684f1cd-dbbb-4d0b-bcd9-4e14d791cfd1",
   "metadata": {},
   "source": [
    "We wish to determine the accuracy of our test predictions. We use `metrics()` function to perform this task. The `truth`value is set to `HeartDisease` and `estimate` to `.pred_class`"
   ]
  },
  {
   "cell_type": "code",
   "execution_count": null,
   "id": "07922812-fc44-46c2-99c8-455a4762af12",
   "metadata": {
    "tags": []
   },
   "outputs": [],
   "source": [
    "test_prediction_accuracy <- test_predictions |>\n",
    "        metrics(truth = HeartDisease, estimate = .pred_class)    \n",
    "test_prediction_accuracy"
   ]
  },
  {
   "cell_type": "markdown",
   "id": "66b9e1c3-fbd1-4346-afef-6125a0260fb0",
   "metadata": {},
   "source": [
    "We get a remarkable accuracy of `75.9%` from our model. This is even better than the accuracy we received while training the data. "
   ]
  },
  {
   "cell_type": "markdown",
   "id": "ba19f595-4354-44e8-9ec4-6e8a558882c6",
   "metadata": {},
   "source": [
    "We move on to dig deeper into the kinds of errors our model makes by figuring out **precision** and **recall** using a **confusion matrix**. \n",
    "\n",
    "The confusion matrix below is described as:\n",
    "1) First  Column First   Row -> True  Negative -> People correctly predicted who don't have heart diseases.\n",
    "2) First  Column Second  Row -> False Negative -> People incorrectly predicted to not have heart diseases when they actually did.\n",
    "3) Second Column First   Row -> False Positive -> People incorrectly predicted to have heart diseases when they actually did not.\n",
    "4) Second Column Second  Row -> True  Positive -> People correctly predicted who did have heart diseases."
   ]
  },
  {
   "cell_type": "code",
   "execution_count": null,
   "id": "8ab2ad78-5248-4a32-8375-3f2a4ff07f23",
   "metadata": {
    "tags": []
   },
   "outputs": [],
   "source": [
    "confusion_mat <- test_predictions |> \n",
    "      conf_mat(truth = HeartDisease, estimate = .pred_class)\n",
    "confusion_mat"
   ]
  },
  {
   "cell_type": "markdown",
   "id": "7a896d15-1c39-4148-9236-0109eeb11d65",
   "metadata": {},
   "source": [
    "Precision quantifies how many of the positive predictions the classifier made were actually positive and recall talks about how many of the positive observations in the test set were identified as positive."
   ]
  },
  {
   "cell_type": "code",
   "execution_count": null,
   "id": "fddb28c9-5969-429f-a324-f1764ad762ef",
   "metadata": {
    "tags": []
   },
   "outputs": [],
   "source": [
    "precision <- 67 / (67 + 23)\n",
    "print(paste(\"The precision is\", precision))\n",
    "recall <- 67 / (67 + 22)\n",
    "print(paste(\"The recall is\", recall))"
   ]
  },
  {
   "cell_type": "markdown",
   "id": "4a43fbcd-b2a2-4e69-a778-8bc793a020c2",
   "metadata": {},
   "source": [
    "When we run the model on test set, we get a precision of `74.44%` and recall of about `75.28%`. This means that `74.44%` of the times our model predicts what is actually a positive value for Heart Disease (precision) and that `75.28%` of the positive values were identified correctly (recall). Even though there is still scope for improvement, this is a remarkable starting point for the model."
   ]
  },
  {
   "cell_type": "markdown",
   "id": "ac318963-e596-4a6a-9b1f-860b204040a6",
   "metadata": {
    "tags": []
   },
   "source": [
    "To further investigate the tuning of our classifier we make use of baseline predictions using majority classifier. Even though the number of positive and negative cases are roughly equal we do perform this step. Approximate accuracy of the majority classifier is usually close to the majority proportion in the training data."
   ]
  },
  {
   "cell_type": "code",
   "execution_count": null,
   "id": "c9aef99f-aa2e-475b-a6b6-4a6eaeb2a796",
   "metadata": {
    "tags": []
   },
   "outputs": [],
   "source": [
    "# baseline majority predictions\n",
    "majority_preds <- training_data |> group_by(HeartDisease) |> summarize(n = n()) |> mutate(percent = n/nrow(training_data))\n",
    "majority_preds"
   ]
  },
  {
   "cell_type": "markdown",
   "id": "ff1436d5-1001-4787-9d6b-cb2d75af8fd9",
   "metadata": {},
   "source": [
    "Our model does a far better job than baseline predictions, since the accuracy of `75.9%` is far greater than `52.2%` for majority predictions."
   ]
  },
  {
   "cell_type": "markdown",
   "id": "518b7f37-9b9e-44fd-8c40-e45e8c5e6ba1",
   "metadata": {},
   "source": [
    "## Discussion"
   ]
  },
  {
   "cell_type": "markdown",
   "id": "c6a0ccb8-d211-4d9f-a273-7bd6fa3e5089",
   "metadata": {},
   "source": [
    "### Summary of Findings:\n",
    "\n",
    "\n",
    "#### Correlation with Heart Disease Risk Factors:\n",
    "- Age: The data suggested a strong correlation between age and heart disease, aligning with common medical understanding. Older individuals showed a higher prevalence of heart disease.\n",
    "- Resting Blood Pressure: Individuals with higher resting blood pressure were more likely to have heart disease. This finding is consistent with medical research indicating hypertension as a risk factor for cardiovascular conditions.\n",
    "- Cholesterol Levels: Higher cholesterol levels were associated with an increased risk of heart disease. This aligns with established knowledge about the role of cholesterol in heart health.\n",
    "- Maximum Heart Rate: An inverse relationship was observed here; lower maximum heart rates were more common in individuals with heart disease. This could reflect the decreased cardiovascular efficiency often seen in heart disease patients.\n",
    "#### Gender Differences in Heart Disease Prevalence:\n",
    "- The analysis revealed a higher incidence of heart disease in males compared to females. This finding prompts further investigation into the biological, lifestyle, and genetic factors that might contribute to this disparity.\n",
    "####  Predictive Modeling:\n",
    "The project utilized knn classification techniques to predict heart disease presence based on the identified key indicators. The effectiveness of these predictions is crucial, as it directly impacts the model's utility in clinical settings. We get out accuracy to be about `75.9%` with a precision of `74.44%` and recall of `75.2%`. We wish to increase our accuracy further along with the recall. Recall in our problem's context carries more weight than precision as it is crucial to identify all the individuals with heart diseases so that they can get treatment immediately. Misclassifying these patients could be potentially life threatening and should be consulted to a trained professional immediately. On the contrary, if a person without heart disease is classified as \"Positive\" then getting a second opinion wouldn't hurt and that patient could be showing some risk factors due to which the model predicted the patient to have heart disease. In such cases, consulting a doctor could be extremely beneficial.\n",
    "\n",
    "However, dwelling deeper into some specific risk factors from our analysis that showed more correlation (like age, sex and maximum heart rate) could help improve accuracy and provide more valuable insights into the world of heart disease  \n",
    "\n",
    "#### Expectations vs. Reality:\n",
    "These findings align with the initial expectations of the project as proposed. The correlation between the identified factors (resting blood pressure, cholesterol levels, age, maximum heart rates) and heart disease was anticipated based on existing medical knowledge.\n",
    "The gender disparity in heart disease prevalence, with males being more affected than females, is something we can delve further in.\n",
    "#### Impact of the Findings:\n",
    "\n",
    "\n",
    "- Medical Industry: The model, with further refinement, could significantly aid in early diagnosis and prevention of heart diseases, potentially saving lives and reducing healthcare costs.\n",
    "- Research and Medical Practice: These findings could influence future research directions and help clinicians in risk assessment and developing personalized treatment plans.\n",
    "- Public Health: Understanding these correlations can inform public health policies and educational campaigns focused on heart disease prevention.\n",
    "\n",
    "\n",
    "#### Future Research Questions:\n",
    "\n",
    "\n",
    "1) Gender Disparity: Why are males more susceptible to heart disease than females? This could lead to investigations into biological, genetic, lifestyle, and socio-cultural factors influencing heart disease prevalence among different genders.\n",
    "2) Most Influential Factor: Among age, sex, resting blood pressure, cholesterol, and maximum heart rate, which has the most significant impact on heart disease risk? This could lead to more focused studies on individual risk factors.\n",
    "3) Improving Predictive Models: How can the accuracy of predictive models be enhanced? This includes exploring additional variables, refining data analysis techniques, and integrating machine learning advancements\n"
   ]
  },
  {
   "cell_type": "markdown",
   "id": "76e10456-ebbc-4278-9571-e8691c33b62b",
   "metadata": {},
   "source": [
    "## Reference List\n",
    "- fedesoriano. (September 2021). Heart Failure Prediction Dataset. Retrieved [Date Retrieved] from https://www.kaggle.com/fedesoriano/heart-failure-prediction.\n",
    "- Cholesterol levels - statpearls - NCBI bookshelf. (n.d.). https://www.ncbi.nlm.nih.gov/books/NBK542294/ \n",
    "- Tiffany Timbers, T. C. (2023, August 31). Data science. Chapter 1 R and the Tidyverse. http://datasciencebook.ca/intro.html \n",
    "\n",
    "**For the data set:**\n",
    "Every dataset used can be found under the Index of heart disease datasets from UCI Machine Learning Repository on the following link: https://archive.ics.uci.edu/ml/machine-learning-databases/heart-disease/\n",
    "\n",
    "Creators:\n",
    "\n",
    "    Hungarian Institute of Cardiology. Budapest: Andras Janosi, M.D.\n",
    "    University Hospital, Zurich, Switzerland: William Steinbrunn, M.D.\n",
    "    University Hospital, Basel, Switzerland: Matthias Pfisterer, M.D.\n",
    "    V.A. Medical Center, Long Beach and Cleveland Clinic Foundation: Robert Detrano, M.D., Ph.D.\n",
    "\n",
    "Donor:\n",
    "David W. Aha (aha '@' ics.uci.edu) (714) 856-8779"
   ]
  }
 ],
 "metadata": {
  "kernelspec": {
   "display_name": "R",
   "language": "R",
   "name": "ir"
  },
  "language_info": {
   "codemirror_mode": "r",
   "file_extension": ".r",
   "mimetype": "text/x-r-source",
   "name": "R",
   "pygments_lexer": "r",
   "version": "4.2.2"
  },
  "widgets": {
   "application/vnd.jupyter.widget-state+json": {
    "state": {},
    "version_major": 2,
    "version_minor": 0
   }
  }
 },
 "nbformat": 4,
 "nbformat_minor": 5
}
