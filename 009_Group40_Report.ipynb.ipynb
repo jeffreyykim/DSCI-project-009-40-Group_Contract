{
 "cells": [
  {
   "cell_type": "markdown",
   "id": "73a71965-8c3f-4fef-9919-2be632bc54e7",
   "metadata": {},
   "source": [
    "# ***Detecting presence of Heart Disease using classification***\n",
    "#### Group Members: Ishan Kumar Singh, Tony Kashimori, Jeffrey Kim"
   ]
  },
  {
   "cell_type": "markdown",
   "id": "05cfb315-f8e6-4324-97a2-f1befd9c8f9a",
   "metadata": {},
   "source": [
    "### Introduction"
   ]
  },
  {
   "cell_type": "markdown",
   "id": "92b95b91-632a-48b1-ad0d-b6132f82d384",
   "metadata": {},
   "source": [
    "Heart diseases, a global health concern, predominantly affect the elderly. With countless victims each year, early detection remains crucial. \n",
    "\n",
    "Our project investigates the likelihood of heart disease using key indicators: age, sex, resting blood pressure, cholesterol, and maximum heart rate.\n",
    "\n",
    "The primary question is: **\"Can age, sex, resting blood pressure, cholesterol, and maximum heart rate predict heart disease?\"** \n",
    "\n",
    "The data set combines five heart datasets, offering the most extensive collection on heart disease prediction with 918 unique observations, focusing on key indicators to assess heart disease risk. Shedding light on these factors' roles, enhances our understanding of future preventive medical approaches."
   ]
  },
  {
   "cell_type": "markdown",
   "id": "d41f7c3f-4a8d-46bf-bc45-3988e1c49eca",
   "metadata": {},
   "source": [
    "## Methods"
   ]
  },
  {
   "cell_type": "markdown",
   "id": "b2515e3e-4c6e-47cf-a70c-3d7134df56b7",
   "metadata": {},
   "source": [
    "### Preliminary exploratory data analysis"
   ]
  },
  {
   "cell_type": "code",
   "execution_count": 29,
   "id": "32404aa9-1b38-4f88-8cb7-f5b7b6b36193",
   "metadata": {
    "tags": []
   },
   "outputs": [],
   "source": [
    "### Run this cell before continuing. \n",
    "library(tidyverse)\n",
    "library(repr)\n",
    "library(tidymodels)\n",
    "options(repr.matrix.max.rows = 6)"
   ]
  },
  {
   "cell_type": "code",
   "execution_count": 30,
   "id": "f7ee1b93-e7c0-434e-b030-29835809c06a",
   "metadata": {
    "tags": []
   },
   "outputs": [
    {
     "name": "stderr",
     "output_type": "stream",
     "text": [
      "\u001b[1mRows: \u001b[22m\u001b[34m918\u001b[39m \u001b[1mColumns: \u001b[22m\u001b[34m12\u001b[39m\n",
      "\u001b[36m──\u001b[39m \u001b[1mColumn specification\u001b[22m \u001b[36m────────────────────────────────────────────────────────\u001b[39m\n",
      "\u001b[1mDelimiter:\u001b[22m \",\"\n",
      "\u001b[31mchr\u001b[39m (5): Sex, ChestPainType, RestingECG, ExerciseAngina, ST_Slope\n",
      "\u001b[32mdbl\u001b[39m (7): Age, RestingBP, Cholesterol, FastingBS, MaxHR, Oldpeak, HeartDisease\n",
      "\n",
      "\u001b[36mℹ\u001b[39m Use `spec()` to retrieve the full column specification for this data.\n",
      "\u001b[36mℹ\u001b[39m Specify the column types or set `show_col_types = FALSE` to quiet this message.\n"
     ]
    }
   ],
   "source": [
    "data <- read_csv(\"https://raw.githubusercontent.com/jeffreyykim/DSCI-project-009-40-Group_Contract/94fda1d002bf5ab24d2be98a7c63061a1dad7ab0/heart.csv\")"
   ]
  },
  {
   "cell_type": "code",
   "execution_count": 31,
   "id": "e237ef63-d9c2-4e48-8ed6-9c4a801cd4a4",
   "metadata": {
    "tags": []
   },
   "outputs": [
    {
     "data": {
      "text/html": [
       "<table class=\"dataframe\">\n",
       "<caption>A tibble: 559 × 6</caption>\n",
       "<thead>\n",
       "\t<tr><th scope=col>HeartDisease</th><th scope=col>Cholesterol</th><th scope=col>Age</th><th scope=col>RestingBP</th><th scope=col>MaxHR</th><th scope=col>Sex</th></tr>\n",
       "\t<tr><th scope=col>&lt;fct&gt;</th><th scope=col>&lt;dbl&gt;</th><th scope=col>&lt;dbl&gt;</th><th scope=col>&lt;dbl&gt;</th><th scope=col>&lt;dbl&gt;</th><th scope=col>&lt;chr&gt;</th></tr>\n",
       "</thead>\n",
       "<tbody>\n",
       "\t<tr><td>Negative</td><td>283</td><td>37</td><td>130</td><td> 98</td><td>M</td></tr>\n",
       "\t<tr><td>Negative</td><td>195</td><td>54</td><td>150</td><td>122</td><td>M</td></tr>\n",
       "\t<tr><td>Negative</td><td>339</td><td>39</td><td>120</td><td>170</td><td>M</td></tr>\n",
       "\t<tr><td>⋮</td><td>⋮</td><td>⋮</td><td>⋮</td><td>⋮</td><td>⋮</td></tr>\n",
       "\t<tr><td>Positive</td><td>193</td><td>68</td><td>144</td><td>141</td><td>M</td></tr>\n",
       "\t<tr><td>Positive</td><td>131</td><td>57</td><td>130</td><td>115</td><td>M</td></tr>\n",
       "\t<tr><td>Positive</td><td>236</td><td>57</td><td>130</td><td>174</td><td>F</td></tr>\n",
       "</tbody>\n",
       "</table>\n"
      ],
      "text/latex": [
       "A tibble: 559 × 6\n",
       "\\begin{tabular}{llllll}\n",
       " HeartDisease & Cholesterol & Age & RestingBP & MaxHR & Sex\\\\\n",
       " <fct> & <dbl> & <dbl> & <dbl> & <dbl> & <chr>\\\\\n",
       "\\hline\n",
       "\t Negative & 283 & 37 & 130 &  98 & M\\\\\n",
       "\t Negative & 195 & 54 & 150 & 122 & M\\\\\n",
       "\t Negative & 339 & 39 & 120 & 170 & M\\\\\n",
       "\t ⋮ & ⋮ & ⋮ & ⋮ & ⋮ & ⋮\\\\\n",
       "\t Positive & 193 & 68 & 144 & 141 & M\\\\\n",
       "\t Positive & 131 & 57 & 130 & 115 & M\\\\\n",
       "\t Positive & 236 & 57 & 130 & 174 & F\\\\\n",
       "\\end{tabular}\n"
      ],
      "text/markdown": [
       "\n",
       "A tibble: 559 × 6\n",
       "\n",
       "| HeartDisease &lt;fct&gt; | Cholesterol &lt;dbl&gt; | Age &lt;dbl&gt; | RestingBP &lt;dbl&gt; | MaxHR &lt;dbl&gt; | Sex &lt;chr&gt; |\n",
       "|---|---|---|---|---|---|\n",
       "| Negative | 283 | 37 | 130 |  98 | M |\n",
       "| Negative | 195 | 54 | 150 | 122 | M |\n",
       "| Negative | 339 | 39 | 120 | 170 | M |\n",
       "| ⋮ | ⋮ | ⋮ | ⋮ | ⋮ | ⋮ |\n",
       "| Positive | 193 | 68 | 144 | 141 | M |\n",
       "| Positive | 131 | 57 | 130 | 115 | M |\n",
       "| Positive | 236 | 57 | 130 | 174 | F |\n",
       "\n"
      ],
      "text/plain": [
       "    HeartDisease Cholesterol Age RestingBP MaxHR Sex\n",
       "1   Negative     283         37  130        98   M  \n",
       "2   Negative     195         54  150       122   M  \n",
       "3   Negative     339         39  120       170   M  \n",
       "⋮   ⋮            ⋮           ⋮   ⋮         ⋮     ⋮  \n",
       "557 Positive     193         68  144       141   M  \n",
       "558 Positive     131         57  130       115   M  \n",
       "559 Positive     236         57  130       174   F  "
      ]
     },
     "metadata": {},
     "output_type": "display_data"
    },
    {
     "data": {
      "text/html": [
       "<table class=\"dataframe\">\n",
       "<caption>A tibble: 187 × 6</caption>\n",
       "<thead>\n",
       "\t<tr><th scope=col>HeartDisease</th><th scope=col>Cholesterol</th><th scope=col>Age</th><th scope=col>RestingBP</th><th scope=col>MaxHR</th><th scope=col>Sex</th></tr>\n",
       "\t<tr><th scope=col>&lt;fct&gt;</th><th scope=col>&lt;dbl&gt;</th><th scope=col>&lt;dbl&gt;</th><th scope=col>&lt;dbl&gt;</th><th scope=col>&lt;dbl&gt;</th><th scope=col>&lt;chr&gt;</th></tr>\n",
       "</thead>\n",
       "<tbody>\n",
       "\t<tr><td>Negative</td><td>289</td><td>40</td><td>140</td><td>172</td><td>M</td></tr>\n",
       "\t<tr><td>Negative</td><td>211</td><td>37</td><td>130</td><td>142</td><td>F</td></tr>\n",
       "\t<tr><td>Positive</td><td>164</td><td>58</td><td>136</td><td> 99</td><td>M</td></tr>\n",
       "\t<tr><td>⋮</td><td>⋮</td><td>⋮</td><td>⋮</td><td>⋮</td><td>⋮</td></tr>\n",
       "\t<tr><td>Positive</td><td>169</td><td>44</td><td>120</td><td>144</td><td>M</td></tr>\n",
       "\t<tr><td>Positive</td><td>197</td><td>63</td><td>124</td><td>136</td><td>F</td></tr>\n",
       "\t<tr><td>Negative</td><td>175</td><td>38</td><td>138</td><td>173</td><td>M</td></tr>\n",
       "</tbody>\n",
       "</table>\n"
      ],
      "text/latex": [
       "A tibble: 187 × 6\n",
       "\\begin{tabular}{llllll}\n",
       " HeartDisease & Cholesterol & Age & RestingBP & MaxHR & Sex\\\\\n",
       " <fct> & <dbl> & <dbl> & <dbl> & <dbl> & <chr>\\\\\n",
       "\\hline\n",
       "\t Negative & 289 & 40 & 140 & 172 & M\\\\\n",
       "\t Negative & 211 & 37 & 130 & 142 & F\\\\\n",
       "\t Positive & 164 & 58 & 136 &  99 & M\\\\\n",
       "\t ⋮ & ⋮ & ⋮ & ⋮ & ⋮ & ⋮\\\\\n",
       "\t Positive & 169 & 44 & 120 & 144 & M\\\\\n",
       "\t Positive & 197 & 63 & 124 & 136 & F\\\\\n",
       "\t Negative & 175 & 38 & 138 & 173 & M\\\\\n",
       "\\end{tabular}\n"
      ],
      "text/markdown": [
       "\n",
       "A tibble: 187 × 6\n",
       "\n",
       "| HeartDisease &lt;fct&gt; | Cholesterol &lt;dbl&gt; | Age &lt;dbl&gt; | RestingBP &lt;dbl&gt; | MaxHR &lt;dbl&gt; | Sex &lt;chr&gt; |\n",
       "|---|---|---|---|---|---|\n",
       "| Negative | 289 | 40 | 140 | 172 | M |\n",
       "| Negative | 211 | 37 | 130 | 142 | F |\n",
       "| Positive | 164 | 58 | 136 |  99 | M |\n",
       "| ⋮ | ⋮ | ⋮ | ⋮ | ⋮ | ⋮ |\n",
       "| Positive | 169 | 44 | 120 | 144 | M |\n",
       "| Positive | 197 | 63 | 124 | 136 | F |\n",
       "| Negative | 175 | 38 | 138 | 173 | M |\n",
       "\n"
      ],
      "text/plain": [
       "    HeartDisease Cholesterol Age RestingBP MaxHR Sex\n",
       "1   Negative     289         40  140       172   M  \n",
       "2   Negative     211         37  130       142   F  \n",
       "3   Positive     164         58  136        99   M  \n",
       "⋮   ⋮            ⋮           ⋮   ⋮         ⋮     ⋮  \n",
       "185 Positive     169         44  120       144   M  \n",
       "186 Positive     197         63  124       136   F  \n",
       "187 Negative     175         38  138       173   M  "
      ]
     },
     "metadata": {},
     "output_type": "display_data"
    }
   ],
   "source": [
    "# cleaning and wrangling the data, renaming the values in a column\n",
    "data <- data |>\n",
    "        mutate(HeartDisease = as_factor(HeartDisease)) |>\n",
    "        mutate(HeartDisease = fct_recode(HeartDisease, \"Positive\" = \"1\", \"Negative\" = \"0\"))\n",
    "# selecting only the relevant columns\n",
    "selected_data <- select(data, HeartDisease, Cholesterol,  Age, RestingBP, MaxHR, Sex) |>\n",
    "                 filter(Cholesterol != 0, MaxHR !=0, RestingBP != 0)\n",
    "# spliting data into testing and training sets\n",
    "data_split <- initial_split(selected_data, prop = 0.75, strata = HeartDisease)\n",
    "training_data <- training(data_split)\n",
    "testing_data <- testing(data_split)\n",
    "training_data\n",
    "testing_data"
   ]
  },
  {
   "cell_type": "code",
   "execution_count": 32,
   "id": "2ea88f4f-0f99-4e6d-8539-da813134d616",
   "metadata": {
    "tags": []
   },
   "outputs": [
    {
     "name": "stderr",
     "output_type": "stream",
     "text": [
      "\u001b[1m\u001b[22m`summarise()` has grouped output by 'HeartDisease'. You can override using the\n",
      "`.groups` argument.\n"
     ]
    },
    {
     "data": {
      "text/html": [
       "<table class=\"dataframe\">\n",
       "<caption>A grouped_df: 4 × 6</caption>\n",
       "<thead>\n",
       "\t<tr><th scope=col>HeartDisease</th><th scope=col>Sex</th><th scope=col>Mean_Cholesterol</th><th scope=col>Mean_Age</th><th scope=col>Mean_RestingBP</th><th scope=col>Mean_MaxHR</th></tr>\n",
       "\t<tr><th scope=col>&lt;fct&gt;</th><th scope=col>&lt;chr&gt;</th><th scope=col>&lt;dbl&gt;</th><th scope=col>&lt;dbl&gt;</th><th scope=col>&lt;dbl&gt;</th><th scope=col>&lt;dbl&gt;</th></tr>\n",
       "</thead>\n",
       "<tbody>\n",
       "\t<tr><td>Negative</td><td>F</td><td>255.3396</td><td>52.19811</td><td>127.7736</td><td>147.9811</td></tr>\n",
       "\t<tr><td>Negative</td><td>M</td><td>234.7312</td><td>48.77419</td><td>130.2849</td><td>148.7796</td></tr>\n",
       "\t<tr><td>Positive</td><td>F</td><td>277.5862</td><td>56.27586</td><td>145.2414</td><td>137.5517</td></tr>\n",
       "\t<tr><td>Positive</td><td>M</td><td>250.3613</td><td>55.83193</td><td>136.1975</td><td>129.7479</td></tr>\n",
       "</tbody>\n",
       "</table>\n"
      ],
      "text/latex": [
       "A grouped\\_df: 4 × 6\n",
       "\\begin{tabular}{llllll}\n",
       " HeartDisease & Sex & Mean\\_Cholesterol & Mean\\_Age & Mean\\_RestingBP & Mean\\_MaxHR\\\\\n",
       " <fct> & <chr> & <dbl> & <dbl> & <dbl> & <dbl>\\\\\n",
       "\\hline\n",
       "\t Negative & F & 255.3396 & 52.19811 & 127.7736 & 147.9811\\\\\n",
       "\t Negative & M & 234.7312 & 48.77419 & 130.2849 & 148.7796\\\\\n",
       "\t Positive & F & 277.5862 & 56.27586 & 145.2414 & 137.5517\\\\\n",
       "\t Positive & M & 250.3613 & 55.83193 & 136.1975 & 129.7479\\\\\n",
       "\\end{tabular}\n"
      ],
      "text/markdown": [
       "\n",
       "A grouped_df: 4 × 6\n",
       "\n",
       "| HeartDisease &lt;fct&gt; | Sex &lt;chr&gt; | Mean_Cholesterol &lt;dbl&gt; | Mean_Age &lt;dbl&gt; | Mean_RestingBP &lt;dbl&gt; | Mean_MaxHR &lt;dbl&gt; |\n",
       "|---|---|---|---|---|---|\n",
       "| Negative | F | 255.3396 | 52.19811 | 127.7736 | 147.9811 |\n",
       "| Negative | M | 234.7312 | 48.77419 | 130.2849 | 148.7796 |\n",
       "| Positive | F | 277.5862 | 56.27586 | 145.2414 | 137.5517 |\n",
       "| Positive | M | 250.3613 | 55.83193 | 136.1975 | 129.7479 |\n",
       "\n"
      ],
      "text/plain": [
       "  HeartDisease Sex Mean_Cholesterol Mean_Age Mean_RestingBP Mean_MaxHR\n",
       "1 Negative     F   255.3396         52.19811 127.7736       147.9811  \n",
       "2 Negative     M   234.7312         48.77419 130.2849       148.7796  \n",
       "3 Positive     F   277.5862         56.27586 145.2414       137.5517  \n",
       "4 Positive     M   250.3613         55.83193 136.1975       129.7479  "
      ]
     },
     "metadata": {},
     "output_type": "display_data"
    }
   ],
   "source": [
    "# characteristics of the training data\n",
    "training_data |>\n",
    "group_by(HeartDisease, Sex) |>\n",
    "summarize(Mean_Cholesterol = mean(Cholesterol, na.rm = TRUE), Mean_Age = mean(Age, na.rm = TRUE), Mean_RestingBP = mean(RestingBP, na.rn = TRUE),\n",
    "          Mean_MaxHR = mean(MaxHR, na.rm = TRUE))"
   ]
  },
  {
   "cell_type": "code",
   "execution_count": 44,
   "id": "1b42df12-626d-4994-be33-7d9500c68c9d",
   "metadata": {
    "tags": []
   },
   "outputs": [
    {
     "data": {
      "text/plain": [
       "Recipe\n",
       "\n",
       "Inputs:\n",
       "\n",
       "      role #variables\n",
       "   outcome          1\n",
       " predictor          5\n",
       "\n",
       "Operations:\n",
       "\n",
       "Centering for all_predictors(-Sex)\n",
       "Scaling for all_predictors(-Sex)"
      ]
     },
     "metadata": {},
     "output_type": "display_data"
    },
    {
     "data": {
      "text/plain": [
       "K-Nearest Neighbor Model Specification (classification)\n",
       "\n",
       "Main Arguments:\n",
       "  neighbors = tune()\n",
       "  weight_func = rectangular\n",
       "\n",
       "Computational engine: kknn \n"
      ]
     },
     "metadata": {},
     "output_type": "display_data"
    }
   ],
   "source": [
    "set.seed(1)\n",
    "knn_recipe <- recipe(HeartDisease ~ . , data = training_data) |>\n",
    "                step_center(all_predictors(-Sex)) |>\n",
    "                step_scale(all_predictors(-Sex)) \n",
    "knn_recipe\n",
    "\n",
    "knn_spec <- nearest_neighbor(weight_func = \"rectangular\", neighbors = tune()) |>\n",
    "            set_engine(\"kknn\") |>\n",
    "            set_mode(\"classification\")\n",
    "knn_spec"
   ]
  },
  {
   "cell_type": "code",
   "execution_count": 45,
   "id": "01218795-4a94-4e68-8f47-0391ed637c2a",
   "metadata": {
    "tags": []
   },
   "outputs": [
    {
     "name": "stderr",
     "output_type": "stream",
     "text": [
      "\u001b[31mx\u001b[39m \u001b[31mFold1: preprocessor 1/1:\n",
      "  \u001b[1m\u001b[33mError\u001b[31m in `step_center()`:\u001b[22m\n",
      "  \u001b[1mCaused by error in `prep()`:\u001b[22m\n",
      "  \u001b[33m!\u001b[31m Problem while evaluating `all_predictors(-Sex)`.\n",
      "  \u001b[1mCaused by error in `all_predictors()`:\u001b[22m\n",
      "  \u001b[33m!\u001b[31m unused argument (-Sex)\u001b[39m\n",
      "\n",
      "\u001b[31mx\u001b[39m \u001b[31mFold2: preprocessor 1/1:\n",
      "  \u001b[1m\u001b[33mError\u001b[31m in `step_center()`:\u001b[22m\n",
      "  \u001b[1mCaused by error in `prep()`:\u001b[22m\n",
      "  \u001b[33m!\u001b[31m Problem while evaluating `all_predictors(-Sex)`.\n",
      "  \u001b[1mCaused by error in `all_predictors()`:\u001b[22m\n",
      "  \u001b[33m!\u001b[31m unused argument (-Sex)\u001b[39m\n",
      "\n",
      "\u001b[31mx\u001b[39m \u001b[31mFold3: preprocessor 1/1:\n",
      "  \u001b[1m\u001b[33mError\u001b[31m in `step_center()`:\u001b[22m\n",
      "  \u001b[1mCaused by error in `prep()`:\u001b[22m\n",
      "  \u001b[33m!\u001b[31m Problem while evaluating `all_predictors(-Sex)`.\n",
      "  \u001b[1mCaused by error in `all_predictors()`:\u001b[22m\n",
      "  \u001b[33m!\u001b[31m unused argument (-Sex)\u001b[39m\n",
      "\n",
      "\u001b[31mx\u001b[39m \u001b[31mFold4: preprocessor 1/1:\n",
      "  \u001b[1m\u001b[33mError\u001b[31m in `step_center()`:\u001b[22m\n",
      "  \u001b[1mCaused by error in `prep()`:\u001b[22m\n",
      "  \u001b[33m!\u001b[31m Problem while evaluating `all_predictors(-Sex)`.\n",
      "  \u001b[1mCaused by error in `all_predictors()`:\u001b[22m\n",
      "  \u001b[33m!\u001b[31m unused argument (-Sex)\u001b[39m\n",
      "\n",
      "\u001b[31mx\u001b[39m \u001b[31mFold5: preprocessor 1/1:\n",
      "  \u001b[1m\u001b[33mError\u001b[31m in `step_center()`:\u001b[22m\n",
      "  \u001b[1mCaused by error in `prep()`:\u001b[22m\n",
      "  \u001b[33m!\u001b[31m Problem while evaluating `all_predictors(-Sex)`.\n",
      "  \u001b[1mCaused by error in `all_predictors()`:\u001b[22m\n",
      "  \u001b[33m!\u001b[31m unused argument (-Sex)\u001b[39m\n",
      "\n",
      "Warning message:\n",
      "“All models failed. Run `show_notes(.Last.tune.result)` for more information.”\n"
     ]
    },
    {
     "ename": "ERROR",
     "evalue": "\u001b[1m\u001b[33mError\u001b[39m in `estimate_tune_results()`:\u001b[22m\n\u001b[33m!\u001b[39m All of the models failed. See the .notes column.\n",
     "output_type": "error",
     "traceback": [
      "\u001b[1m\u001b[33mError\u001b[39m in `estimate_tune_results()`:\u001b[22m\n\u001b[33m!\u001b[39m All of the models failed. See the .notes column.\nTraceback:\n",
      "1. filter(collect_metrics(tune_grid(add_model(add_recipe(workflow(), \n .     knn_recipe), knn_spec), resamples = knn_vfold, grid = grid_vals)), \n .     .metric == \"accuracy\")",
      "2. collect_metrics(tune_grid(add_model(add_recipe(workflow(), knn_recipe), \n .     knn_spec), resamples = knn_vfold, grid = grid_vals))",
      "3. collect_metrics.tune_results(tune_grid(add_model(add_recipe(workflow(), \n .     knn_recipe), knn_spec), resamples = knn_vfold, grid = grid_vals))",
      "4. estimate_tune_results(x)",
      "5. rlang::abort(\"All of the models failed. See the .notes column.\")",
      "6. signal_abort(cnd, .file)"
     ]
    }
   ],
   "source": [
    "set.seed(1)\n",
    "\n",
    "grid_vals <- tibble(neighbors = 1:200)\n",
    "\n",
    "knn_vfold <- vfold_cv(training_data, v = 5, strata = HeartDisease)\n",
    "\n",
    "\n",
    "knn_fit <- workflow() |>\n",
    "            add_recipe(knn_recipe) |>\n",
    "            add_model(knn_spec) |>\n",
    "            tune_grid(resamples = knn_vfold, grid = grid_vals) |>\n",
    "            collect_metrics() |>\n",
    "            filter(.metric == \"accuracy\")\n"
   ]
  },
  {
   "cell_type": "code",
   "execution_count": null,
   "id": "4bd68de5-d756-4960-9a9a-8ba6db940779",
   "metadata": {},
   "outputs": [],
   "source": []
  }
 ],
 "metadata": {
  "kernelspec": {
   "display_name": "R",
   "language": "R",
   "name": "ir"
  },
  "language_info": {
   "codemirror_mode": "r",
   "file_extension": ".r",
   "mimetype": "text/x-r-source",
   "name": "R",
   "pygments_lexer": "r",
   "version": "4.2.2"
  },
  "widgets": {
   "application/vnd.jupyter.widget-state+json": {
    "state": {},
    "version_major": 2,
    "version_minor": 0
   }
  }
 },
 "nbformat": 4,
 "nbformat_minor": 5
}
