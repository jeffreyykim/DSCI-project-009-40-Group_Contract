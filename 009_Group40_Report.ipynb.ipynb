{
 "cells": [
  {
   "cell_type": "markdown",
   "id": "73a71965-8c3f-4fef-9919-2be632bc54e7",
   "metadata": {},
   "source": [
    "# ***Detecting presence of Heart Disease using classification***\n",
    "#### Group Members: Ishan Kumar Singh, Tony Kashimori, Jeffrey Kim"
   ]
  },
  {
   "cell_type": "markdown",
   "id": "05cfb315-f8e6-4324-97a2-f1befd9c8f9a",
   "metadata": {},
   "source": [
    "### Introduction"
   ]
  },
  {
   "cell_type": "markdown",
   "id": "92b95b91-632a-48b1-ad0d-b6132f82d384",
   "metadata": {},
   "source": [
    "Heart diseases, a global health concern, predominantly affect the elderly. With countless victims each year, early detection remains crucial. \n",
    "\n",
    "Our project investigates the likelihood of heart disease using key indicators: age, sex, resting blood pressure, cholesterol, and maximum heart rate.\n",
    "\n",
    "The primary question is: **\"Can age, sex, resting blood pressure, cholesterol, and maximum heart rate predict heart disease?\"** \n",
    "\n",
    "The data set combines five heart datasets, offering the most extensive collection on heart disease prediction with 918 unique observations, focusing on key indicators to assess heart disease risk. Shedding light on these factors' roles, enhances our understanding of future preventive medical approaches."
   ]
  },
  {
   "cell_type": "markdown",
   "id": "d41f7c3f-4a8d-46bf-bc45-3988e1c49eca",
   "metadata": {},
   "source": [
    "## Methods"
   ]
  },
  {
   "cell_type": "markdown",
   "id": "b2515e3e-4c6e-47cf-a70c-3d7134df56b7",
   "metadata": {},
   "source": [
    "### Preliminary exploratory data analysis"
   ]
  },
  {
   "cell_type": "code",
   "execution_count": 7,
   "id": "32404aa9-1b38-4f88-8cb7-f5b7b6b36193",
   "metadata": {
    "tags": []
   },
   "outputs": [],
   "source": [
    "### Run this cell before continuing. \n",
    "library(tidyverse)\n",
    "library(repr)\n",
    "library(tidymodels)\n",
    "options(repr.matrix.max.rows = 6)\n",
    "library(dplyr)"
   ]
  },
  {
   "cell_type": "code",
   "execution_count": 8,
   "id": "f7ee1b93-e7c0-434e-b030-29835809c06a",
   "metadata": {
    "tags": []
   },
   "outputs": [
    {
     "name": "stderr",
     "output_type": "stream",
     "text": [
      "\u001b[1mRows: \u001b[22m\u001b[34m918\u001b[39m \u001b[1mColumns: \u001b[22m\u001b[34m12\u001b[39m\n",
      "\u001b[36m──\u001b[39m \u001b[1mColumn specification\u001b[22m \u001b[36m────────────────────────────────────────────────────────\u001b[39m\n",
      "\u001b[1mDelimiter:\u001b[22m \",\"\n",
      "\u001b[31mchr\u001b[39m (5): Sex, ChestPainType, RestingECG, ExerciseAngina, ST_Slope\n",
      "\u001b[32mdbl\u001b[39m (7): Age, RestingBP, Cholesterol, FastingBS, MaxHR, Oldpeak, HeartDisease\n",
      "\n",
      "\u001b[36mℹ\u001b[39m Use `spec()` to retrieve the full column specification for this data.\n",
      "\u001b[36mℹ\u001b[39m Specify the column types or set `show_col_types = FALSE` to quiet this message.\n"
     ]
    }
   ],
   "source": [
    "data <- read_csv(\"https://raw.githubusercontent.com/jeffreyykim/DSCI-project-009-40-Group_Contract/94fda1d002bf5ab24d2be98a7c63061a1dad7ab0/heart.csv\")"
   ]
  },
  {
   "cell_type": "code",
   "execution_count": 37,
   "id": "e237ef63-d9c2-4e48-8ed6-9c4a801cd4a4",
   "metadata": {
    "tags": []
   },
   "outputs": [
    {
     "name": "stderr",
     "output_type": "stream",
     "text": [
      "Warning message:\n",
      "“\u001b[1m\u001b[22mThere was 1 warning in `mutate()`.\n",
      "\u001b[1m\u001b[22m\u001b[36mℹ\u001b[39m In argument: `HeartDisease = fct_recode(HeartDisease, Positive = \"1\",\n",
      "  Negative = \"0\")`.\n",
      "Caused by warning:\n",
      "\u001b[33m!\u001b[39m Unknown levels in `f`: 1, 0”\n"
     ]
    },
    {
     "data": {
      "text/html": [
       "<table class=\"dataframe\">\n",
       "<caption>A tibble: 746 × 6</caption>\n",
       "<thead>\n",
       "\t<tr><th scope=col>HeartDisease</th><th scope=col>Cholesterol</th><th scope=col>Age</th><th scope=col>RestingBP</th><th scope=col>MaxHR</th><th scope=col>male</th></tr>\n",
       "\t<tr><th scope=col>&lt;fct&gt;</th><th scope=col>&lt;dbl&gt;</th><th scope=col>&lt;dbl&gt;</th><th scope=col>&lt;dbl&gt;</th><th scope=col>&lt;dbl&gt;</th><th scope=col>&lt;int&gt;</th></tr>\n",
       "</thead>\n",
       "<tbody>\n",
       "\t<tr><td>Negative</td><td>289</td><td>40</td><td>140</td><td>172</td><td>1</td></tr>\n",
       "\t<tr><td>Positive</td><td>180</td><td>49</td><td>160</td><td>156</td><td>0</td></tr>\n",
       "\t<tr><td>Negative</td><td>283</td><td>37</td><td>130</td><td> 98</td><td>1</td></tr>\n",
       "\t<tr><td>⋮</td><td>⋮</td><td>⋮</td><td>⋮</td><td>⋮</td><td>⋮</td></tr>\n",
       "\t<tr><td>Positive</td><td>131</td><td>57</td><td>130</td><td>115</td><td>1</td></tr>\n",
       "\t<tr><td>Positive</td><td>236</td><td>57</td><td>130</td><td>174</td><td>0</td></tr>\n",
       "\t<tr><td>Negative</td><td>175</td><td>38</td><td>138</td><td>173</td><td>1</td></tr>\n",
       "</tbody>\n",
       "</table>\n"
      ],
      "text/latex": [
       "A tibble: 746 × 6\n",
       "\\begin{tabular}{llllll}\n",
       " HeartDisease & Cholesterol & Age & RestingBP & MaxHR & male\\\\\n",
       " <fct> & <dbl> & <dbl> & <dbl> & <dbl> & <int>\\\\\n",
       "\\hline\n",
       "\t Negative & 289 & 40 & 140 & 172 & 1\\\\\n",
       "\t Positive & 180 & 49 & 160 & 156 & 0\\\\\n",
       "\t Negative & 283 & 37 & 130 &  98 & 1\\\\\n",
       "\t ⋮ & ⋮ & ⋮ & ⋮ & ⋮ & ⋮\\\\\n",
       "\t Positive & 131 & 57 & 130 & 115 & 1\\\\\n",
       "\t Positive & 236 & 57 & 130 & 174 & 0\\\\\n",
       "\t Negative & 175 & 38 & 138 & 173 & 1\\\\\n",
       "\\end{tabular}\n"
      ],
      "text/markdown": [
       "\n",
       "A tibble: 746 × 6\n",
       "\n",
       "| HeartDisease &lt;fct&gt; | Cholesterol &lt;dbl&gt; | Age &lt;dbl&gt; | RestingBP &lt;dbl&gt; | MaxHR &lt;dbl&gt; | male &lt;int&gt; |\n",
       "|---|---|---|---|---|---|\n",
       "| Negative | 289 | 40 | 140 | 172 | 1 |\n",
       "| Positive | 180 | 49 | 160 | 156 | 0 |\n",
       "| Negative | 283 | 37 | 130 |  98 | 1 |\n",
       "| ⋮ | ⋮ | ⋮ | ⋮ | ⋮ | ⋮ |\n",
       "| Positive | 131 | 57 | 130 | 115 | 1 |\n",
       "| Positive | 236 | 57 | 130 | 174 | 0 |\n",
       "| Negative | 175 | 38 | 138 | 173 | 1 |\n",
       "\n"
      ],
      "text/plain": [
       "    HeartDisease Cholesterol Age RestingBP MaxHR male\n",
       "1   Negative     289         40  140       172   1   \n",
       "2   Positive     180         49  160       156   0   \n",
       "3   Negative     283         37  130        98   1   \n",
       "⋮   ⋮            ⋮           ⋮   ⋮         ⋮     ⋮   \n",
       "744 Positive     131         57  130       115   1   \n",
       "745 Positive     236         57  130       174   0   \n",
       "746 Negative     175         38  138       173   1   "
      ]
     },
     "metadata": {},
     "output_type": "display_data"
    },
    {
     "data": {
      "text/html": [
       "<table class=\"dataframe\">\n",
       "<caption>A tibble: 559 × 6</caption>\n",
       "<thead>\n",
       "\t<tr><th scope=col>HeartDisease</th><th scope=col>Cholesterol</th><th scope=col>Age</th><th scope=col>RestingBP</th><th scope=col>MaxHR</th><th scope=col>male</th></tr>\n",
       "\t<tr><th scope=col>&lt;fct&gt;</th><th scope=col>&lt;dbl&gt;</th><th scope=col>&lt;dbl&gt;</th><th scope=col>&lt;dbl&gt;</th><th scope=col>&lt;dbl&gt;</th><th scope=col>&lt;int&gt;</th></tr>\n",
       "</thead>\n",
       "<tbody>\n",
       "\t<tr><td>Negative</td><td>289</td><td>40</td><td>140</td><td>172</td><td>1</td></tr>\n",
       "\t<tr><td>Negative</td><td>283</td><td>37</td><td>130</td><td> 98</td><td>1</td></tr>\n",
       "\t<tr><td>Negative</td><td>208</td><td>54</td><td>110</td><td>142</td><td>1</td></tr>\n",
       "\t<tr><td>⋮</td><td>⋮</td><td>⋮</td><td>⋮</td><td>⋮</td><td>⋮</td></tr>\n",
       "\t<tr><td>Positive</td><td>193</td><td>68</td><td>144</td><td>141</td><td>1</td></tr>\n",
       "\t<tr><td>Positive</td><td>131</td><td>57</td><td>130</td><td>115</td><td>1</td></tr>\n",
       "\t<tr><td>Positive</td><td>236</td><td>57</td><td>130</td><td>174</td><td>0</td></tr>\n",
       "</tbody>\n",
       "</table>\n"
      ],
      "text/latex": [
       "A tibble: 559 × 6\n",
       "\\begin{tabular}{llllll}\n",
       " HeartDisease & Cholesterol & Age & RestingBP & MaxHR & male\\\\\n",
       " <fct> & <dbl> & <dbl> & <dbl> & <dbl> & <int>\\\\\n",
       "\\hline\n",
       "\t Negative & 289 & 40 & 140 & 172 & 1\\\\\n",
       "\t Negative & 283 & 37 & 130 &  98 & 1\\\\\n",
       "\t Negative & 208 & 54 & 110 & 142 & 1\\\\\n",
       "\t ⋮ & ⋮ & ⋮ & ⋮ & ⋮ & ⋮\\\\\n",
       "\t Positive & 193 & 68 & 144 & 141 & 1\\\\\n",
       "\t Positive & 131 & 57 & 130 & 115 & 1\\\\\n",
       "\t Positive & 236 & 57 & 130 & 174 & 0\\\\\n",
       "\\end{tabular}\n"
      ],
      "text/markdown": [
       "\n",
       "A tibble: 559 × 6\n",
       "\n",
       "| HeartDisease &lt;fct&gt; | Cholesterol &lt;dbl&gt; | Age &lt;dbl&gt; | RestingBP &lt;dbl&gt; | MaxHR &lt;dbl&gt; | male &lt;int&gt; |\n",
       "|---|---|---|---|---|---|\n",
       "| Negative | 289 | 40 | 140 | 172 | 1 |\n",
       "| Negative | 283 | 37 | 130 |  98 | 1 |\n",
       "| Negative | 208 | 54 | 110 | 142 | 1 |\n",
       "| ⋮ | ⋮ | ⋮ | ⋮ | ⋮ | ⋮ |\n",
       "| Positive | 193 | 68 | 144 | 141 | 1 |\n",
       "| Positive | 131 | 57 | 130 | 115 | 1 |\n",
       "| Positive | 236 | 57 | 130 | 174 | 0 |\n",
       "\n"
      ],
      "text/plain": [
       "    HeartDisease Cholesterol Age RestingBP MaxHR male\n",
       "1   Negative     289         40  140       172   1   \n",
       "2   Negative     283         37  130        98   1   \n",
       "3   Negative     208         54  110       142   1   \n",
       "⋮   ⋮            ⋮           ⋮   ⋮         ⋮     ⋮   \n",
       "557 Positive     193         68  144       141   1   \n",
       "558 Positive     131         57  130       115   1   \n",
       "559 Positive     236         57  130       174   0   "
      ]
     },
     "metadata": {},
     "output_type": "display_data"
    },
    {
     "data": {
      "text/html": [
       "<table class=\"dataframe\">\n",
       "<caption>A tibble: 187 × 6</caption>\n",
       "<thead>\n",
       "\t<tr><th scope=col>HeartDisease</th><th scope=col>Cholesterol</th><th scope=col>Age</th><th scope=col>RestingBP</th><th scope=col>MaxHR</th><th scope=col>male</th></tr>\n",
       "\t<tr><th scope=col>&lt;fct&gt;</th><th scope=col>&lt;dbl&gt;</th><th scope=col>&lt;dbl&gt;</th><th scope=col>&lt;dbl&gt;</th><th scope=col>&lt;dbl&gt;</th><th scope=col>&lt;int&gt;</th></tr>\n",
       "</thead>\n",
       "<tbody>\n",
       "\t<tr><td>Negative</td><td>195</td><td>54</td><td>150</td><td>122</td><td>1</td></tr>\n",
       "\t<tr><td>Negative</td><td>339</td><td>39</td><td>120</td><td>170</td><td>1</td></tr>\n",
       "\t<tr><td>Negative</td><td>237</td><td>45</td><td>130</td><td>170</td><td>0</td></tr>\n",
       "\t<tr><td>⋮</td><td>⋮</td><td>⋮</td><td>⋮</td><td>⋮</td><td>⋮</td></tr>\n",
       "\t<tr><td>Negative</td><td>342</td><td>55</td><td>132</td><td>166</td><td>0</td></tr>\n",
       "\t<tr><td>Positive</td><td>197</td><td>63</td><td>124</td><td>136</td><td>0</td></tr>\n",
       "\t<tr><td>Positive</td><td>176</td><td>59</td><td>164</td><td> 90</td><td>1</td></tr>\n",
       "</tbody>\n",
       "</table>\n"
      ],
      "text/latex": [
       "A tibble: 187 × 6\n",
       "\\begin{tabular}{llllll}\n",
       " HeartDisease & Cholesterol & Age & RestingBP & MaxHR & male\\\\\n",
       " <fct> & <dbl> & <dbl> & <dbl> & <dbl> & <int>\\\\\n",
       "\\hline\n",
       "\t Negative & 195 & 54 & 150 & 122 & 1\\\\\n",
       "\t Negative & 339 & 39 & 120 & 170 & 1\\\\\n",
       "\t Negative & 237 & 45 & 130 & 170 & 0\\\\\n",
       "\t ⋮ & ⋮ & ⋮ & ⋮ & ⋮ & ⋮\\\\\n",
       "\t Negative & 342 & 55 & 132 & 166 & 0\\\\\n",
       "\t Positive & 197 & 63 & 124 & 136 & 0\\\\\n",
       "\t Positive & 176 & 59 & 164 &  90 & 1\\\\\n",
       "\\end{tabular}\n"
      ],
      "text/markdown": [
       "\n",
       "A tibble: 187 × 6\n",
       "\n",
       "| HeartDisease &lt;fct&gt; | Cholesterol &lt;dbl&gt; | Age &lt;dbl&gt; | RestingBP &lt;dbl&gt; | MaxHR &lt;dbl&gt; | male &lt;int&gt; |\n",
       "|---|---|---|---|---|---|\n",
       "| Negative | 195 | 54 | 150 | 122 | 1 |\n",
       "| Negative | 339 | 39 | 120 | 170 | 1 |\n",
       "| Negative | 237 | 45 | 130 | 170 | 0 |\n",
       "| ⋮ | ⋮ | ⋮ | ⋮ | ⋮ | ⋮ |\n",
       "| Negative | 342 | 55 | 132 | 166 | 0 |\n",
       "| Positive | 197 | 63 | 124 | 136 | 0 |\n",
       "| Positive | 176 | 59 | 164 |  90 | 1 |\n",
       "\n"
      ],
      "text/plain": [
       "    HeartDisease Cholesterol Age RestingBP MaxHR male\n",
       "1   Negative     195         54  150       122   1   \n",
       "2   Negative     339         39  120       170   1   \n",
       "3   Negative     237         45  130       170   0   \n",
       "⋮   ⋮            ⋮           ⋮   ⋮         ⋮     ⋮   \n",
       "185 Negative     342         55  132       166   0   \n",
       "186 Positive     197         63  124       136   0   \n",
       "187 Positive     176         59  164        90   1   "
      ]
     },
     "metadata": {},
     "output_type": "display_data"
    }
   ],
   "source": [
    "# cleaning and wrangling the data, renaming the values in a column\n",
    "data <- data |>\n",
    "        mutate(HeartDisease = as_factor(HeartDisease)) |>\n",
    "        mutate(HeartDisease = fct_recode(HeartDisease, \"Positive\" = \"1\", \"Negative\" = \"0\"))\n",
    "# selecting only the relevant columns\n",
    "selected_data <- select(data, HeartDisease, Cholesterol,  Age, RestingBP, MaxHR, Sex) |>\n",
    "                 filter(Cholesterol != 0, MaxHR !=0, RestingBP != 0) |>\n",
    "                mutate(male=as.integer(Sex == \"M\")) |>\n",
    "                select(-Sex)\n",
    "                 # mutate(Sex = as.factor(Sex)) |> mutate(Sex = fct_recode(Sex, \"1\" = \"M\", \"0\" = \"F\"))\n",
    "selected_data\n",
    "\n",
    "# spliting data into testing and training sets\n",
    "data_split <- initial_split(selected_data, prop = 0.75, strata = HeartDisease)\n",
    "training_data <- training(data_split)\n",
    "testing_data <- testing(data_split)\n",
    "training_data\n",
    "testing_data"
   ]
  },
  {
   "cell_type": "code",
   "execution_count": 38,
   "id": "2ea88f4f-0f99-4e6d-8539-da813134d616",
   "metadata": {
    "tags": []
   },
   "outputs": [
    {
     "ename": "ERROR",
     "evalue": "\u001b[1m\u001b[33mError\u001b[39m in `group_by()`:\u001b[22m\n\u001b[1m\u001b[22m\u001b[33m!\u001b[39m Must group by variables found in `.data`.\n\u001b[31m✖\u001b[39m Column `Sex` is not found.\n",
     "output_type": "error",
     "traceback": [
      "\u001b[1m\u001b[33mError\u001b[39m in `group_by()`:\u001b[22m\n\u001b[1m\u001b[22m\u001b[33m!\u001b[39m Must group by variables found in `.data`.\n\u001b[31m✖\u001b[39m Column `Sex` is not found.\nTraceback:\n",
      "1. summarize(group_by(training_data, HeartDisease, Sex), Mean_Cholesterol = mean(Cholesterol, \n .     na.rm = TRUE), Mean_Age = mean(Age, na.rm = TRUE), Mean_RestingBP = mean(RestingBP, \n .     na.rn = TRUE), Mean_MaxHR = mean(MaxHR, na.rm = TRUE))",
      "2. group_by(training_data, HeartDisease, Sex)",
      "3. group_by.data.frame(training_data, HeartDisease, Sex)",
      "4. group_by_prepare(.data, ..., .add = .add, error_call = current_env())",
      "5. abort(bullets, call = error_call)",
      "6. signal_abort(cnd, .file)"
     ]
    }
   ],
   "source": [
    "# characteristics of the training data\n",
    "training_data |>\n",
    "group_by(HeartDisease, Sex) |>\n",
    "summarize(Mean_Cholesterol = mean(Cholesterol, na.rm = TRUE), Mean_Age = mean(Age, na.rm = TRUE), Mean_RestingBP = mean(RestingBP, na.rn = TRUE),\n",
    "          Mean_MaxHR = mean(MaxHR, na.rm = TRUE))"
   ]
  },
  {
   "cell_type": "code",
   "execution_count": 39,
   "id": "1b42df12-626d-4994-be33-7d9500c68c9d",
   "metadata": {
    "tags": []
   },
   "outputs": [
    {
     "data": {
      "text/plain": [
       "Recipe\n",
       "\n",
       "Inputs:\n",
       "\n",
       "      role #variables\n",
       "   outcome          1\n",
       " predictor          5\n",
       "\n",
       "Operations:\n",
       "\n",
       "Centering for all_predictors()\n",
       "Scaling for all_predictors()"
      ]
     },
     "metadata": {},
     "output_type": "display_data"
    },
    {
     "data": {
      "text/plain": [
       "K-Nearest Neighbor Model Specification (classification)\n",
       "\n",
       "Main Arguments:\n",
       "  neighbors = tune()\n",
       "  weight_func = rectangular\n",
       "\n",
       "Computational engine: kknn \n"
      ]
     },
     "metadata": {},
     "output_type": "display_data"
    }
   ],
   "source": [
    "set.seed(1)\n",
    "knn_recipe <- recipe(HeartDisease ~ . , data = training_data) |>\n",
    "                step_center(all_predictors()) |>\n",
    "                step_scale(all_predictors()) \n",
    "knn_recipe\n",
    "\n",
    "knn_spec <- nearest_neighbor(weight_func = \"rectangular\", neighbors = tune()) |>\n",
    "            set_engine(\"kknn\") |>\n",
    "            set_mode(\"classification\")\n",
    "knn_spec"
   ]
  },
  {
   "cell_type": "code",
   "execution_count": 41,
   "id": "01218795-4a94-4e68-8f47-0391ed637c2a",
   "metadata": {
    "tags": []
   },
   "outputs": [
    {
     "data": {
      "text/html": [
       "<table class=\"dataframe\">\n",
       "<caption>A tibble: 200 × 7</caption>\n",
       "<thead>\n",
       "\t<tr><th scope=col>neighbors</th><th scope=col>.metric</th><th scope=col>.estimator</th><th scope=col>mean</th><th scope=col>n</th><th scope=col>std_err</th><th scope=col>.config</th></tr>\n",
       "\t<tr><th scope=col>&lt;int&gt;</th><th scope=col>&lt;chr&gt;</th><th scope=col>&lt;chr&gt;</th><th scope=col>&lt;dbl&gt;</th><th scope=col>&lt;int&gt;</th><th scope=col>&lt;dbl&gt;</th><th scope=col>&lt;chr&gt;</th></tr>\n",
       "</thead>\n",
       "<tbody>\n",
       "\t<tr><td>1</td><td>accuracy</td><td>binary</td><td>0.6617556</td><td>5</td><td>0.01930164</td><td>Preprocessor1_Model001</td></tr>\n",
       "\t<tr><td>2</td><td>accuracy</td><td>binary</td><td>0.6617556</td><td>5</td><td>0.01930164</td><td>Preprocessor1_Model002</td></tr>\n",
       "\t<tr><td>3</td><td>accuracy</td><td>binary</td><td>0.6491429</td><td>5</td><td>0.01553145</td><td>Preprocessor1_Model003</td></tr>\n",
       "\t<tr><td>⋮</td><td>⋮</td><td>⋮</td><td>⋮</td><td>⋮</td><td>⋮</td><td>⋮</td></tr>\n",
       "\t<tr><td>198</td><td>accuracy</td><td>binary</td><td>0.6993383</td><td>5</td><td>0.02176040</td><td>Preprocessor1_Model198</td></tr>\n",
       "\t<tr><td>199</td><td>accuracy</td><td>binary</td><td>0.7011401</td><td>5</td><td>0.02095737</td><td>Preprocessor1_Model199</td></tr>\n",
       "\t<tr><td>200</td><td>accuracy</td><td>binary</td><td>0.7011401</td><td>5</td><td>0.02095737</td><td>Preprocessor1_Model200</td></tr>\n",
       "</tbody>\n",
       "</table>\n"
      ],
      "text/latex": [
       "A tibble: 200 × 7\n",
       "\\begin{tabular}{lllllll}\n",
       " neighbors & .metric & .estimator & mean & n & std\\_err & .config\\\\\n",
       " <int> & <chr> & <chr> & <dbl> & <int> & <dbl> & <chr>\\\\\n",
       "\\hline\n",
       "\t 1 & accuracy & binary & 0.6617556 & 5 & 0.01930164 & Preprocessor1\\_Model001\\\\\n",
       "\t 2 & accuracy & binary & 0.6617556 & 5 & 0.01930164 & Preprocessor1\\_Model002\\\\\n",
       "\t 3 & accuracy & binary & 0.6491429 & 5 & 0.01553145 & Preprocessor1\\_Model003\\\\\n",
       "\t ⋮ & ⋮ & ⋮ & ⋮ & ⋮ & ⋮ & ⋮\\\\\n",
       "\t 198 & accuracy & binary & 0.6993383 & 5 & 0.02176040 & Preprocessor1\\_Model198\\\\\n",
       "\t 199 & accuracy & binary & 0.7011401 & 5 & 0.02095737 & Preprocessor1\\_Model199\\\\\n",
       "\t 200 & accuracy & binary & 0.7011401 & 5 & 0.02095737 & Preprocessor1\\_Model200\\\\\n",
       "\\end{tabular}\n"
      ],
      "text/markdown": [
       "\n",
       "A tibble: 200 × 7\n",
       "\n",
       "| neighbors &lt;int&gt; | .metric &lt;chr&gt; | .estimator &lt;chr&gt; | mean &lt;dbl&gt; | n &lt;int&gt; | std_err &lt;dbl&gt; | .config &lt;chr&gt; |\n",
       "|---|---|---|---|---|---|---|\n",
       "| 1 | accuracy | binary | 0.6617556 | 5 | 0.01930164 | Preprocessor1_Model001 |\n",
       "| 2 | accuracy | binary | 0.6617556 | 5 | 0.01930164 | Preprocessor1_Model002 |\n",
       "| 3 | accuracy | binary | 0.6491429 | 5 | 0.01553145 | Preprocessor1_Model003 |\n",
       "| ⋮ | ⋮ | ⋮ | ⋮ | ⋮ | ⋮ | ⋮ |\n",
       "| 198 | accuracy | binary | 0.6993383 | 5 | 0.02176040 | Preprocessor1_Model198 |\n",
       "| 199 | accuracy | binary | 0.7011401 | 5 | 0.02095737 | Preprocessor1_Model199 |\n",
       "| 200 | accuracy | binary | 0.7011401 | 5 | 0.02095737 | Preprocessor1_Model200 |\n",
       "\n"
      ],
      "text/plain": [
       "    neighbors .metric  .estimator mean      n std_err    .config               \n",
       "1   1         accuracy binary     0.6617556 5 0.01930164 Preprocessor1_Model001\n",
       "2   2         accuracy binary     0.6617556 5 0.01930164 Preprocessor1_Model002\n",
       "3   3         accuracy binary     0.6491429 5 0.01553145 Preprocessor1_Model003\n",
       "⋮   ⋮         ⋮        ⋮          ⋮         ⋮ ⋮          ⋮                     \n",
       "198 198       accuracy binary     0.6993383 5 0.02176040 Preprocessor1_Model198\n",
       "199 199       accuracy binary     0.7011401 5 0.02095737 Preprocessor1_Model199\n",
       "200 200       accuracy binary     0.7011401 5 0.02095737 Preprocessor1_Model200"
      ]
     },
     "metadata": {},
     "output_type": "display_data"
    }
   ],
   "source": [
    "set.seed(1)\n",
    "\n",
    "grid_vals <- tibble(neighbors = 1:200)\n",
    "\n",
    "knn_vfold <- vfold_cv(training_data, v = 5, strata = HeartDisease)\n",
    "\n",
    "\n",
    "knn_fit <- workflow() |>\n",
    "            add_recipe(knn_recipe) |>\n",
    "            add_model(knn_spec) |>\n",
    "            tune_grid(resamples = knn_vfold, grid = grid_vals) |>\n",
    "            collect_metrics() |>\n",
    "            filter(.metric == \"accuracy\")\n",
    "knn_fit"
   ]
  },
  {
   "cell_type": "code",
   "execution_count": 16,
   "id": "4bd68de5-d756-4960-9a9a-8ba6db940779",
   "metadata": {},
   "outputs": [
    {
     "name": "stderr",
     "output_type": "stream",
     "text": [
      "Updating HTML index of packages in '.Library'\n",
      "\n",
      "Making 'packages.html' ...\n",
      " done\n",
      "\n"
     ]
    }
   ],
   "source": [
    "install.packages(\"kknn\")"
   ]
  },
  {
   "cell_type": "code",
   "execution_count": null,
   "id": "b3d96c1b-b28c-48db-ab91-e702e7800723",
   "metadata": {},
   "outputs": [],
   "source": []
  },
  {
   "cell_type": "code",
   "execution_count": null,
   "id": "cb3acf67-75fd-488e-957e-fde570661f9b",
   "metadata": {},
   "outputs": [],
   "source": []
  }
 ],
 "metadata": {
  "kernelspec": {
   "display_name": "R",
   "language": "R",
   "name": "ir"
  },
  "language_info": {
   "codemirror_mode": "r",
   "file_extension": ".r",
   "mimetype": "text/x-r-source",
   "name": "R",
   "pygments_lexer": "r",
   "version": "4.2.2"
  },
  "widgets": {
   "application/vnd.jupyter.widget-state+json": {
    "state": {},
    "version_major": 2,
    "version_minor": 0
   }
  }
 },
 "nbformat": 4,
 "nbformat_minor": 5
}
